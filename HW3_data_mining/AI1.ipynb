{
 "cells": [
  {
   "cell_type": "markdown",
   "id": "bb1fdf0f",
   "metadata": {},
   "source": [
    "# Calculator"
   ]
  },
  {
   "cell_type": "markdown",
   "id": "b71fe1c1",
   "metadata": {},
   "source": [
    "In mathematics, the Nth harmonic number is defined to be 1 + 1/2 + 1/3 + 1/4 + ... + 1/N. So, the first harmonic number is 1, the second is 1.5, the third is 1.83333... and so on. Write an expression whose value is the 8th harmonic number."
   ]
  },
  {
   "cell_type": "code",
   "execution_count": 1,
   "id": "66a85fb7",
   "metadata": {},
   "outputs": [
    {
     "data": {
      "text/plain": [
       "2.7178571428571425"
      ]
     },
     "execution_count": 1,
     "metadata": {},
     "output_type": "execute_result"
    }
   ],
   "source": [
    "1.0 + 1.0/2.0 + 1.0/3.0 + 1.0/4.0 + 1.0/5.0 + 1.0/6.0 + 1.0/7.0 + 1.0/8.0"
   ]
  },
  {
   "cell_type": "markdown",
   "id": "9568fd33",
   "metadata": {},
   "source": [
    "Assume that price contains an integer representing the price (in US currency) in cents of an item. Assuming the item is paid for with a minimum amount of change and just single dollars, write an expression for the number of single dollars that would have to be paid.   (// and %)"
   ]
  },
  {
   "cell_type": "code",
   "execution_count": 3,
   "id": "cc85d11a",
   "metadata": {},
   "outputs": [
    {
     "data": {
      "text/plain": [
       "2"
      ]
     },
     "execution_count": 3,
     "metadata": {},
     "output_type": "execute_result"
    }
   ],
   "source": [
    "price = 250\n",
    "price//100"
   ]
  },
  {
   "cell_type": "code",
   "execution_count": 5,
   "id": "fd6d1b81",
   "metadata": {},
   "outputs": [
    {
     "data": {
      "text/plain": [
       "50"
      ]
     },
     "execution_count": 5,
     "metadata": {},
     "output_type": "execute_result"
    }
   ],
   "source": [
    "price%100"
   ]
  },
  {
   "cell_type": "markdown",
   "id": "4de695ba",
   "metadata": {},
   "source": [
    "Question: Assume that price is an integer variable whose value is the price (in US currency) in cents of an item. Write codes that prints the value of price in the form \"X dollars and Y cents\". So, if the value of price was 4321, your code would print \"43 dollars and 21 cents\". If the value was 501 it would print \"5 dollars and 1 cents\". If the value was 99 your code would print \"0 dollars and 99 cents\"."
   ]
  },
  {
   "cell_type": "code",
   "execution_count": 2,
   "id": "e84c4f4c",
   "metadata": {},
   "outputs": [
    {
     "name": "stdout",
     "output_type": "stream",
     "text": [
      "43 dollars and 21 cents\n"
     ]
    }
   ],
   "source": [
    "########### MY ANSWER: ##############\n",
    "price = 4321\n",
    "dollars = price // 100\n",
    "cents = price % 100\n",
    "\n",
    "dollars_str = str(dollars)\n",
    "cents_str = str(cents)\n",
    "print(dollars_str + \" dollars and \" + cents_str + \" cents\")"
   ]
  },
  {
   "cell_type": "code",
   "execution_count": 3,
   "id": "35bf343f",
   "metadata": {},
   "outputs": [
    {
     "name": "stdout",
     "output_type": "stream",
     "text": [
      "5 dollars and 1 cents\n"
     ]
    }
   ],
   "source": [
    "########### MY ANSWER: ##############\n",
    "price = 501\n",
    "dollars = price // 100\n",
    "cents = price % 100\n",
    "\n",
    "dollars_str = str(dollars)\n",
    "cents_str = str(cents)\n",
    "print(dollars_str + \" dollars and \" + cents_str + \" cents\")"
   ]
  },
  {
   "cell_type": "code",
   "execution_count": 4,
   "id": "0a2397db",
   "metadata": {},
   "outputs": [
    {
     "name": "stdout",
     "output_type": "stream",
     "text": [
      "0 dollars and 99 cents\n"
     ]
    }
   ],
   "source": [
    "########### MY ANSWER: ##############\n",
    "price = 99\n",
    "dollars = price // 100\n",
    "cents = price % 100\n",
    "\n",
    "dollars_str = str(dollars)\n",
    "cents_str = str(cents)\n",
    "print(dollars_str + \" dollars and \" + cents_str + \" cents\")"
   ]
  },
  {
   "cell_type": "code",
   "execution_count": 6,
   "id": "76f6ee40",
   "metadata": {},
   "outputs": [],
   "source": [
    "price = 5632"
   ]
  },
  {
   "cell_type": "code",
   "execution_count": 8,
   "id": "1065200a",
   "metadata": {},
   "outputs": [
    {
     "data": {
      "text/plain": [
       "56"
      ]
     },
     "execution_count": 8,
     "metadata": {},
     "output_type": "execute_result"
    }
   ],
   "source": [
    "dollar = price//100\n",
    "dollar"
   ]
  },
  {
   "cell_type": "code",
   "execution_count": 11,
   "id": "9190d0aa",
   "metadata": {},
   "outputs": [
    {
     "data": {
      "text/plain": [
       "56"
      ]
     },
     "execution_count": 11,
     "metadata": {},
     "output_type": "execute_result"
    }
   ],
   "source": [
    "dollar = int(price/100)\n",
    "dollar"
   ]
  },
  {
   "cell_type": "code",
   "execution_count": 12,
   "id": "b59ea9fe",
   "metadata": {},
   "outputs": [],
   "source": [
    "cents = price%100"
   ]
  },
  {
   "cell_type": "code",
   "execution_count": 13,
   "id": "7c122ba6",
   "metadata": {},
   "outputs": [
    {
     "data": {
      "text/plain": [
       "32"
      ]
     },
     "execution_count": 13,
     "metadata": {},
     "output_type": "execute_result"
    }
   ],
   "source": [
    "cents"
   ]
  },
  {
   "cell_type": "code",
   "execution_count": 5,
   "id": "b70292a0",
   "metadata": {},
   "outputs": [],
   "source": [
    "import math"
   ]
  },
  {
   "cell_type": "code",
   "execution_count": 5,
   "id": "4f374ecd",
   "metadata": {},
   "outputs": [
    {
     "data": {
      "text/plain": [
       "-0.9524129804151563"
      ]
     },
     "execution_count": 5,
     "metadata": {},
     "output_type": "execute_result"
    }
   ],
   "source": [
    "math.cos(60)"
   ]
  },
  {
   "cell_type": "markdown",
   "id": "eeb720d0",
   "metadata": {},
   "source": [
    "Question: $ u_{z}(x) = R^2{-\\frac{(Z-H)}{(x \\sin a)^2 + (Z-H)^3}} \\frac{4RG+G^2}{4R^2} $"
   ]
  },
  {
   "cell_type": "code",
   "execution_count": 15,
   "id": "641fa665",
   "metadata": {},
   "outputs": [],
   "source": [
    "Z = 3.4\n",
    "H = 8.9\n",
    "R = -1.2\n",
    "G = 11\n",
    "\n",
    "a = 30"
   ]
  },
  {
   "cell_type": "code",
   "execution_count": 16,
   "id": "26d791e4",
   "metadata": {},
   "outputs": [
    {
     "data": {
      "text/plain": [
       "0.6307664862595082"
      ]
     },
     "execution_count": 16,
     "metadata": {},
     "output_type": "execute_result"
    }
   ],
   "source": [
    "x = 0.5\n",
    "R**2 - ((Z-H)/((x*math.sin(a)+(Z-H)*(Z-H)*(Z-H)))) * ((4*R*G+G*G)/4*R*R)"
   ]
  },
  {
   "cell_type": "code",
   "execution_count": 17,
   "id": "8fe83d39",
   "metadata": {},
   "outputs": [
    {
     "data": {
      "text/plain": [
       "33"
      ]
     },
     "execution_count": 17,
     "metadata": {},
     "output_type": "execute_result"
    }
   ],
   "source": [
    "1+32"
   ]
  },
  {
   "cell_type": "markdown",
   "id": "77e7a18f",
   "metadata": {},
   "source": [
    "<b> Question: Calculate the BMI of a person using the formula:\n",
    "\n",
    "BMI = ( Weight in Pounds / ( ( Height in inches ) x ( Height in inches ) ) ) x 703\n",
    "\n",
    "Assign the value to the variable bmi. Assume the value of the weight in pounds has already been assigned to the variable w and the value of the height in inches has been assigned to the variable h.\n",
    "\n",
    "Additional Notes: w = 100 and h=67 should not be modified\n",
    "\n",
    "What is te bmi?"
   ]
  },
  {
   "cell_type": "code",
   "execution_count": 6,
   "id": "a63f7985",
   "metadata": {},
   "outputs": [
    {
     "name": "stdout",
     "output_type": "stream",
     "text": [
      "The BMI is: 15.66050345288483\n"
     ]
    }
   ],
   "source": [
    "########### MY ANSWER: ##############\n",
    "w = 100\n",
    "h = 67\n",
    "\n",
    "bmi = (w/(h * h)) * 703\n",
    "print(\"The BMI is:\", bmi)"
   ]
  },
  {
   "cell_type": "markdown",
   "id": "4ed42233",
   "metadata": {},
   "source": [
    "# Control Flow: if, elif, else"
   ]
  },
  {
   "cell_type": "markdown",
   "id": "b1bc49d2",
   "metadata": {},
   "source": [
    "### code block: in if and not in if code block"
   ]
  },
  {
   "cell_type": "markdown",
   "id": "29b3edc9",
   "metadata": {},
   "source": [
    "Question: Given x and y, each assigned an integer value, write a fragment of code that assigns to larger of these with another variable named max_num."
   ]
  },
  {
   "cell_type": "code",
   "execution_count": null,
   "id": "24215848",
   "metadata": {},
   "outputs": [],
   "source": [
    "i = 50\n",
    "if i<50:\n",
    "    print(\"bring an umbrella\")\n",
    "    print(\"good day\")\n",
    "elif i==50:\n",
    "    print(\"sunscreen\")\n",
    "else:\n",
    "    print(\"as usual\")"
   ]
  },
  {
   "cell_type": "code",
   "execution_count": null,
   "id": "74e1a87e",
   "metadata": {},
   "outputs": [],
   "source": [
    "x, y = 43, 88\n",
    "\n",
    "if y > x: \n",
    "    max_num = y\n",
    "elif y < x:\n",
    "    max_num = x\n",
    "else:\n",
    "    max_num = x\n",
    "    print(\"x and y are equal\")\n",
    "    \n",
    "print(max_num)"
   ]
  },
  {
   "cell_type": "code",
   "execution_count": 8,
   "id": "5c85050f",
   "metadata": {},
   "outputs": [
    {
     "name": "stdout",
     "output_type": "stream",
     "text": [
      "88\n"
     ]
    }
   ],
   "source": [
    "x, y = 43, 88\n",
    "max_num = x\n",
    "if y > max_num: \n",
    "    max_num = y\n",
    "print(max_num)"
   ]
  },
  {
   "cell_type": "markdown",
   "id": "0b0c4bc6",
   "metadata": {},
   "source": [
    "<b>Question: Given the variables x, y, and z, each assigned an integer value, write a fragment of code that assigns the smallest of these to minimal.\n",
    "eg, x = 32  y= 56 z=-100   "
   ]
  },
  {
   "cell_type": "code",
   "execution_count": 7,
   "id": "bcc733d2",
   "metadata": {},
   "outputs": [
    {
     "name": "stdout",
     "output_type": "stream",
     "text": [
      "1\n"
     ]
    }
   ],
   "source": [
    "# x, y, z = 1,2,3\n",
    "# x, y, z = 2,1,3\n",
    "# x, y, z = 2,3,1\n",
    "\n",
    "########### MY ANSWER: ##############\n",
    "x = 1\n",
    "y = 2\n",
    "z = 3\n",
    "\n",
    "if (x<=y) and (x<=z):\n",
    "    minimum = x\n",
    "if (y<=x) and (y<=z):\n",
    "    minimum = y\n",
    "if (z<=x) and (z<=y):\n",
    "    minimum = z\n",
    "    \n",
    "print(minimum)"
   ]
  },
  {
   "cell_type": "code",
   "execution_count": 42,
   "id": "eba1c9ce",
   "metadata": {},
   "outputs": [
    {
     "name": "stdout",
     "output_type": "stream",
     "text": [
      "1\n"
     ]
    }
   ],
   "source": [
    "# x, y, z = 1,2,3\n",
    "# x, y, z = 2,1,3\n",
    "# x, y, z = 2,3,1\n",
    "\n",
    "########### MY ANSWER: ##############\n",
    "x = 2\n",
    "y = 1\n",
    "z = 3\n",
    "\n",
    "if (x<=y) and (x<=z):\n",
    "    minimum = x\n",
    "if (y<=x) and (y<=z):\n",
    "    minimum = y\n",
    "if (z<=x) and (z<=y):\n",
    "    minimum = z\n",
    "    \n",
    "print(minimum)"
   ]
  },
  {
   "cell_type": "code",
   "execution_count": 43,
   "id": "1a4f78b1",
   "metadata": {},
   "outputs": [
    {
     "name": "stdout",
     "output_type": "stream",
     "text": [
      "1\n"
     ]
    }
   ],
   "source": [
    "# x, y, z = 1,2,3\n",
    "# x, y, z = 2,1,3\n",
    "# x, y, z = 2,3,1\n",
    "\n",
    "########### MY ANSWER: ##############\n",
    "x = 2\n",
    "y = 3\n",
    "z = 1\n",
    "\n",
    "if (x<=y) and (x<=z):\n",
    "    minimum = x\n",
    "if (y<=x) and (y<=z):\n",
    "    minimum = y\n",
    "if (z<=x) and (z<=y):\n",
    "    minimum = z\n",
    "    \n",
    "print(minimum)"
   ]
  },
  {
   "cell_type": "markdown",
   "id": "58f7f708",
   "metadata": {},
   "source": [
    "<b>Question: Write an if/else statement that adds 1 to minors if age is less than 18, adds 1 to adults if age is 18 through 64 and adds 1 to seniors if age is 65 or older."
   ]
  },
  {
   "cell_type": "code",
   "execution_count": 11,
   "id": "d21fadc7",
   "metadata": {},
   "outputs": [
    {
     "name": "stdout",
     "output_type": "stream",
     "text": [
      "Age = 30\n",
      "Minors = 15\n",
      "Adults = 21\n",
      "Seniors = 18\n"
     ]
    }
   ],
   "source": [
    "########### MY ANSWER: ##############\n",
    "age = 30\n",
    "minors = 15\n",
    "adults = 20\n",
    "seniors = 18\n",
    "\n",
    "if age < 18:\n",
    "    minors = minors + 1\n",
    "elif (age >= 18) and (age <= 64):\n",
    "    adults = adults + 1\n",
    "elif (age >= 65):\n",
    "    seniors = seniors + 1\n",
    "\n",
    "print(\"Age =\", age)\n",
    "print(\"Minors =\", minors)\n",
    "print(\"Adults =\", adults)\n",
    "print(\"Seniors =\", seniors)"
   ]
  },
  {
   "cell_type": "markdown",
   "id": "21b3d96b",
   "metadata": {},
   "source": [
    "<b>Given that pH refers to a float, write code that compares pH to 7.0 and makes the following assignments (RESPECTIVELY!) to the variables neutral, base, and acid: \n",
    "\n",
    "0,0,1 if pH is less than 7\n",
    "0,1,0 if pH is greater than 7\n",
    "1,0,0 if pH is equal to 7"
   ]
  },
  {
   "cell_type": "code",
   "execution_count": 15,
   "id": "a9ed0a65",
   "metadata": {},
   "outputs": [
    {
     "name": "stdout",
     "output_type": "stream",
     "text": [
      "Neutral = 1\n",
      "Base = 0\n",
      "Acid = 0\n"
     ]
    }
   ],
   "source": [
    "########### MY ANSWER: ##############\n",
    "pH = 7.0\n",
    "\n",
    "if pH < 7.0:\n",
    "    neutral, base, acid = 0,0,1\n",
    "elif pH > 7.0:\n",
    "    neutral, base, acid = 0,1,0\n",
    "else:\n",
    "    neutral, base, acid = 1,0,0\n",
    "\n",
    "print(\"Neutral =\", neutral)\n",
    "print(\"Base =\", base)\n",
    "print(\"Acid =\", acid)"
   ]
  },
  {
   "cell_type": "code",
   "execution_count": 16,
   "id": "aefab38e",
   "metadata": {},
   "outputs": [
    {
     "name": "stdout",
     "output_type": "stream",
     "text": [
      "Neutral = 0\n",
      "Base = 0\n",
      "Acid = 1\n"
     ]
    }
   ],
   "source": [
    "########### MY ANSWER: ##############\n",
    "pH = 5.0\n",
    "\n",
    "if pH < 7.0:\n",
    "    neutral, base, acid = 0,0,1\n",
    "elif pH > 7.0:\n",
    "    neutral, base, acid = 0,1,0\n",
    "else:\n",
    "    neutral, base, acid = 1,0,0\n",
    "\n",
    "print(\"Neutral =\", neutral)\n",
    "print(\"Base =\", base)\n",
    "print(\"Acid =\", acid)"
   ]
  },
  {
   "cell_type": "code",
   "execution_count": 18,
   "id": "1f1367af",
   "metadata": {},
   "outputs": [
    {
     "name": "stdout",
     "output_type": "stream",
     "text": [
      "Neutral = 0\n",
      "Base = 1\n",
      "Acid = 0\n"
     ]
    }
   ],
   "source": [
    "########### MY ANSWER: ##############\n",
    "pH = 10.0\n",
    "\n",
    "if pH < 7.0:\n",
    "    neutral, base, acid = 0,0,1\n",
    "elif pH > 7.0:\n",
    "    neutral, base, acid = 0,1,0\n",
    "else:\n",
    "    neutral, base, acid = 1,0,0\n",
    "\n",
    "print(\"Neutral =\", neutral)\n",
    "print(\"Base =\", base)\n",
    "print(\"Acid =\", acid)"
   ]
  },
  {
   "cell_type": "markdown",
   "id": "d631f402",
   "metadata": {},
   "source": [
    "<b>Question:  \n",
    "Online Book Merchants offers premium customers 1 free book with every purchase of 5 or more books and offers 2 free books with every purchase of 8 or more books. It offers regular customers 1 free book with every purchase of 7 or more books, and offers 2 free books with every purchase of 12 or more books.\n",
    "\n",
    "Write a statement that assigns freeBooks the appropriate value based on the values of the boolean variable isPremiumCustomer and the integer variable nbooksPurchased.\n",
    "\n",
    " \n",
    "\n",
    "Additional Notes: isPremiumCustomer and nbooksPurchased should not be modified"
   ]
  },
  {
   "cell_type": "code",
   "execution_count": 19,
   "id": "d80494cb",
   "metadata": {},
   "outputs": [
    {
     "name": "stdout",
     "output_type": "stream",
     "text": [
      "Free books = 0\n"
     ]
    }
   ],
   "source": [
    "########### MY ANSWER: ##############\n",
    "isPremiumCustomer = True\n",
    "nbooksPurchased = 2\n",
    "\n",
    "# premium\n",
    "if isPremiumCustomer:\n",
    "    if nbooksPurchased >= 5 and nbooksPurchased < 8:\n",
    "        freeBooks = 1\n",
    "    elif nbooksPurchased >= 8:\n",
    "        freeBooks = 2\n",
    "    else:\n",
    "        freeBooks = 0\n",
    "# regular\n",
    "else:\n",
    "    if nbooksPurchased >= 7 and nbooksPurchased < 12:\n",
    "        freeBooks = 1\n",
    "    elif nbooksPurchased >= 12:\n",
    "        freeBooks = 2\n",
    "    else:\n",
    "        freeBooks = 0\n",
    "\n",
    "print(\"Free books =\", freeBooks)"
   ]
  },
  {
   "cell_type": "markdown",
   "id": "ce26163a",
   "metadata": {},
   "source": [
    "# Loops(while and for) break and continue:t he ability to repeate to run a block of code"
   ]
  },
  {
   "cell_type": "markdown",
   "id": "d7b8fdd1",
   "metadata": {},
   "source": [
    "### while loop"
   ]
  },
  {
   "cell_type": "code",
   "execution_count": null,
   "id": "f22e5453",
   "metadata": {},
   "outputs": [],
   "source": [
    "print(0)\n",
    "print(1)"
   ]
  },
  {
   "cell_type": "code",
   "execution_count": 25,
   "id": "78a6e100",
   "metadata": {},
   "outputs": [
    {
     "name": "stdout",
     "output_type": "stream",
     "text": [
      "10\n",
      "9\n",
      "8\n",
      "7\n",
      "6\n",
      "5\n",
      "4\n",
      "3\n",
      "2\n",
      "1\n"
     ]
    }
   ],
   "source": [
    "n = 10\n",
    "while n>0:\n",
    "    print(n)\n",
    "    n = n-1"
   ]
  },
  {
   "cell_type": "code",
   "execution_count": 28,
   "id": "8d65a71d",
   "metadata": {},
   "outputs": [
    {
     "name": "stdout",
     "output_type": "stream",
     "text": [
      "0\n",
      "1\n",
      "2\n",
      "3\n",
      "4\n",
      "5\n",
      "6\n",
      "7\n",
      "8\n",
      "9\n",
      "10\n"
     ]
    }
   ],
   "source": [
    "n = 0\n",
    "while n<=10:\n",
    "    print(n)\n",
    "    n = n+1"
   ]
  },
  {
   "cell_type": "markdown",
   "id": "bf36b58e",
   "metadata": {},
   "source": [
    "Question: s = 1+2+3+..+100 using while loop"
   ]
  },
  {
   "cell_type": "code",
   "execution_count": 30,
   "id": "10c6a39d",
   "metadata": {},
   "outputs": [
    {
     "name": "stdout",
     "output_type": "stream",
     "text": [
      "5050\n"
     ]
    }
   ],
   "source": [
    "i = 1\n",
    "s = 0\n",
    "\n",
    "while i<=100:\n",
    "    s = s+i\n",
    "    i += 1\n",
    "print(s)"
   ]
  },
  {
   "cell_type": "markdown",
   "id": "e249525f",
   "metadata": {},
   "source": [
    "<b>Question: In mathematics, the Nth harmonic number is defined to be 1 + 1/2 + 1/3 + 1/4 + ... + 1/N. So, the first harmonic number is 1, the second is 1.5, the third is 1.83333... and so on. Assume that n is an integer variable whose value is some positive integer N. Assume also that hn is a variable whose value is the Nth harmonic number. Write an expression whose value is the (N+1)th harmonic number.   (hn + 1.0/(n+1))  \n",
    "\n",
    "Write a while loop get the result of when n = 100"
   ]
  },
  {
   "cell_type": "code",
   "execution_count": 21,
   "id": "c7a67359",
   "metadata": {},
   "outputs": [
    {
     "name": "stdout",
     "output_type": "stream",
     "text": [
      "The (N+1)th harmonic number is = 5.187377517639621\n"
     ]
    }
   ],
   "source": [
    "########### MY ANSWER: ##############\n",
    "n = 1\n",
    "harmonic_num = 1.0\n",
    "\n",
    "while n < 100:\n",
    "    n = n + 1\n",
    "    harmonic_num = harmonic_num + (1.0/n)\n",
    "\n",
    "print(\"The (N+1)th harmonic number is =\", harmonic_num)"
   ]
  },
  {
   "cell_type": "markdown",
   "id": "2f88b0d5",
   "metadata": {},
   "source": [
    "<b> Question: Given that n=16, use a while loop to compute the sum of the cubes of the first n counting numbers, and assign this value to total. Use no variables other than n, k, and total."
   ]
  },
  {
   "cell_type": "code",
   "execution_count": 22,
   "id": "3158ea2d",
   "metadata": {},
   "outputs": [
    {
     "name": "stdout",
     "output_type": "stream",
     "text": [
      "The sum of the cubes of the first 16 counting numbers is = 18496\n"
     ]
    }
   ],
   "source": [
    "########### MY ANSWER: ##############\n",
    "import math\n",
    "\n",
    "n = 16\n",
    "total = 0\n",
    "i = 0\n",
    "\n",
    "while i <= n:\n",
    "    total = total + (i**3)\n",
    "    i = i+1\n",
    "    \n",
    "print(\"The sum of the cubes of the first\", n, \"counting numbers is =\", total)"
   ]
  },
  {
   "cell_type": "markdown",
   "id": "552ab8cf",
   "metadata": {},
   "source": [
    "<b>Question:  \n",
    "Assume there is a variable, h that has already been assigned a positive integer value. Write the code necessary to count the number of perfect squares whose value is less than h, starting with 1. (A perfect square is an integer like 9, 16, 25, 36 that is equal to the square of another integer (in this case 3*3, 4*4, 5*5, 6*6 respectively). Assign the sum you compute to a variable q For example, if h is 19, you would assign 4 to q because there are perfect squares (starting with 1) that are less than h are: 1, 4, 9, 16."
   ]
  },
  {
   "cell_type": "code",
   "execution_count": 24,
   "id": "fdb72055",
   "metadata": {},
   "outputs": [
    {
     "data": {
      "text/plain": [
       "16"
      ]
     },
     "execution_count": 24,
     "metadata": {},
     "output_type": "execute_result"
    }
   ],
   "source": [
    "cursor"
   ]
  },
  {
   "cell_type": "code",
   "execution_count": 45,
   "id": "b6c2ad2e",
   "metadata": {},
   "outputs": [
    {
     "name": "stdout",
     "output_type": "stream",
     "text": [
      "The number of perfect squares less than 16 is = 4\n"
     ]
    }
   ],
   "source": [
    "########### MY ANSWER: ##############\n",
    "h = 16\n",
    "count = 0\n",
    "num = 1\n",
    "\n",
    "while num * num <= h:\n",
    "    count += 1\n",
    "    num += 1\n",
    "        \n",
    "print(\"The number of perfect squares less than\", h, \"is =\", count)"
   ]
  },
  {
   "cell_type": "markdown",
   "id": "ba2151e0",
   "metadata": {},
   "source": [
    "### list and range()"
   ]
  },
  {
   "cell_type": "markdown",
   "id": "82efa827",
   "metadata": {},
   "source": [
    "Clunker Motors Inc. is recalling all vehicles in its Extravagant line from model years 1999-2002. Given a variable modelYear (containing a integer) and a variable modelName (containing a string) write a statement that prints the message \"RECALL\" to standard output if the values of modelYear and modelName match the recall details."
   ]
  },
  {
   "cell_type": "code",
   "execution_count": 17,
   "id": "d1047420",
   "metadata": {},
   "outputs": [
    {
     "name": "stdout",
     "output_type": "stream",
     "text": [
      "RECALL\n"
     ]
    }
   ],
   "source": [
    "modelYear = 2000\n",
    "modelName = \"Extravagant\"\n",
    "if modelYear in range(1999, 2003) and modelName == \"Extravagant\":\n",
    "    print(\"RECALL\")"
   ]
  },
  {
   "cell_type": "code",
   "execution_count": null,
   "id": "afc75553",
   "metadata": {},
   "outputs": [],
   "source": [
    "modelYear = 2003\n",
    "modelName = \"Extravagant\"\n",
    "if modelYear in range(1999, 2003) and modelName == \"Extravagant\":\n",
    "    print(\"RECALL\")"
   ]
  },
  {
   "cell_type": "code",
   "execution_count": null,
   "id": "cc9137b5",
   "metadata": {},
   "outputs": [],
   "source": [
    "modelYear = 1999\n",
    "modelName = \"Extravagant\"\n",
    "if modelYear in range(1999, 2003) and modelName == \"Extravagant\":\n",
    "    print(\"RECALL\")"
   ]
  },
  {
   "cell_type": "markdown",
   "id": "bfaaf9b8",
   "metadata": {},
   "source": [
    "<b>Question:Create a list named tax_rates, consisting of the following five elements: 0.10, 0.15, 0.21, 0.28, 0.31, in that order."
   ]
  },
  {
   "cell_type": "code",
   "execution_count": 28,
   "id": "7bd6d7ae",
   "metadata": {},
   "outputs": [
    {
     "name": "stdout",
     "output_type": "stream",
     "text": [
      "[0.1, 0.15, 0.21, 0.28, 0.31]\n"
     ]
    }
   ],
   "source": [
    "########### MY ANSWER: ##############\n",
    "tax_rates = [0.10, 0.15, 0.21, 0.28, 0.31]\n",
    "print(tax_rates)"
   ]
  },
  {
   "cell_type": "code",
   "execution_count": 31,
   "id": "fdb4caf3",
   "metadata": {},
   "outputs": [],
   "source": [
    "tax_rates = [0.10, 0.15, 0.21, 0.28, 0.31]"
   ]
  },
  {
   "cell_type": "code",
   "execution_count": 32,
   "id": "35e9a322",
   "metadata": {},
   "outputs": [
    {
     "data": {
      "text/plain": [
       "0.1"
      ]
     },
     "execution_count": 32,
     "metadata": {},
     "output_type": "execute_result"
    }
   ],
   "source": [
    "tax_rates[0]"
   ]
  },
  {
   "cell_type": "code",
   "execution_count": 33,
   "id": "e4c65a8e",
   "metadata": {},
   "outputs": [
    {
     "data": {
      "text/plain": [
       "0.21"
      ]
     },
     "execution_count": 33,
     "metadata": {},
     "output_type": "execute_result"
    }
   ],
   "source": [
    "tax_rates[2]"
   ]
  },
  {
   "cell_type": "code",
   "execution_count": 34,
   "id": "b9a41100",
   "metadata": {},
   "outputs": [
    {
     "data": {
      "text/plain": [
       "0.31"
      ]
     },
     "execution_count": 34,
     "metadata": {},
     "output_type": "execute_result"
    }
   ],
   "source": [
    "tax_rates[-1]"
   ]
  },
  {
   "cell_type": "code",
   "execution_count": 35,
   "id": "d4385906",
   "metadata": {},
   "outputs": [
    {
     "data": {
      "text/plain": [
       "[0.1, 0.15, 0.21]"
      ]
     },
     "execution_count": 35,
     "metadata": {},
     "output_type": "execute_result"
    }
   ],
   "source": [
    "tax_rates[0:3]"
   ]
  },
  {
   "cell_type": "markdown",
   "id": "39fb8500",
   "metadata": {},
   "source": [
    "<b>question: Write a statement that creates a list named denominations consisting of the following six elements: 1, 5, 10, 25, 50, 100 (in that order)."
   ]
  },
  {
   "cell_type": "code",
   "execution_count": 29,
   "id": "87c138bb",
   "metadata": {},
   "outputs": [
    {
     "name": "stdout",
     "output_type": "stream",
     "text": [
      "[1, 5, 10, 25, 50, 100]\n"
     ]
    }
   ],
   "source": [
    "########### MY ANSWER: ##############\n",
    "denominations = [1, 5, 10, 25, 50, 100]\n",
    "print(denominations)"
   ]
  },
  {
   "cell_type": "code",
   "execution_count": 29,
   "id": "17d0393a",
   "metadata": {},
   "outputs": [
    {
     "data": {
      "text/plain": [
       "[0, 1, 2, 3, 4]"
      ]
     },
     "execution_count": 29,
     "metadata": {},
     "output_type": "execute_result"
    }
   ],
   "source": [
    "temp = list(range(5))\n",
    "temp"
   ]
  },
  {
   "cell_type": "code",
   "execution_count": null,
   "id": "a3500de0",
   "metadata": {},
   "outputs": [],
   "source": []
  },
  {
   "cell_type": "markdown",
   "id": "12cc9515",
   "metadata": {},
   "source": [
    "<b>question: Given the list = [4,2,6,1], insert 2 and 1 to the end of the list"
   ]
  },
  {
   "cell_type": "code",
   "execution_count": 46,
   "id": "b87d512d",
   "metadata": {},
   "outputs": [],
   "source": [
    "lst = [4,2,6,1]"
   ]
  },
  {
   "cell_type": "code",
   "execution_count": 47,
   "id": "90e13220",
   "metadata": {},
   "outputs": [],
   "source": [
    "lst.append(2)\n",
    "lst.append(1) # ANSWER"
   ]
  },
  {
   "cell_type": "code",
   "execution_count": 48,
   "id": "102fb686",
   "metadata": {},
   "outputs": [
    {
     "data": {
      "text/plain": [
       "[4, 2, 6, 1, 2, 1]"
      ]
     },
     "execution_count": 48,
     "metadata": {},
     "output_type": "execute_result"
    }
   ],
   "source": [
    "lst # ANSWER"
   ]
  },
  {
   "cell_type": "code",
   "execution_count": 44,
   "id": "570a3997",
   "metadata": {},
   "outputs": [
    {
     "data": {
      "text/plain": [
       "5"
      ]
     },
     "execution_count": 44,
     "metadata": {},
     "output_type": "execute_result"
    }
   ],
   "source": [
    "len(lst)"
   ]
  },
  {
   "cell_type": "code",
   "execution_count": 45,
   "id": "ed286cdc",
   "metadata": {},
   "outputs": [
    {
     "data": {
      "text/plain": [
       "range(0, 5)"
      ]
     },
     "execution_count": 45,
     "metadata": {},
     "output_type": "execute_result"
    }
   ],
   "source": [
    "range(len(lst))"
   ]
  },
  {
   "cell_type": "markdown",
   "id": "20f729bd",
   "metadata": {},
   "source": [
    "### for loop"
   ]
  },
  {
   "cell_type": "markdown",
   "id": "b3527823",
   "metadata": {},
   "source": [
    "To find the minum number in a list"
   ]
  },
  {
   "cell_type": "code",
   "execution_count": 39,
   "id": "4772a54b",
   "metadata": {},
   "outputs": [],
   "source": [
    "lst = [4,5,2,3,54,542,64,637,-1]"
   ]
  },
  {
   "cell_type": "code",
   "execution_count": null,
   "id": "06845b48",
   "metadata": {},
   "outputs": [],
   "source": [
    "lst1 = [1,2,4,-1, 0]"
   ]
  },
  {
   "cell_type": "code",
   "execution_count": 40,
   "id": "5f0584b0",
   "metadata": {},
   "outputs": [
    {
     "name": "stdout",
     "output_type": "stream",
     "text": [
      "2\n",
      "-1\n",
      "-1\n"
     ]
    }
   ],
   "source": [
    "min_var = lst[0]\n",
    "for ele in lst:\n",
    "    if ele < min_var:\n",
    "        min_var = ele\n",
    "        print(min_var)\n",
    "print(min_var)"
   ]
  },
  {
   "cell_type": "markdown",
   "id": "209ff7c8",
   "metadata": {},
   "source": [
    "# function\n",
    "\n",
    "def function_name(input):     function head\n",
    "    code body  \n",
    "    \n",
    "    return output              return: output"
   ]
  },
  {
   "cell_type": "code",
   "execution_count": null,
   "id": "a8568931",
   "metadata": {},
   "outputs": [],
   "source": [
    "# input is a list\n",
    "# the function could find the min number of the list\n",
    "# output is the min number of the list"
   ]
  },
  {
   "cell_type": "code",
   "execution_count": 8,
   "id": "b17b28bf",
   "metadata": {},
   "outputs": [],
   "source": [
    "def min_num(l):    # head of the function\n",
    "    min_var = l[0]\n",
    "    for ele in l:\n",
    "        if ele < min_var:\n",
    "            min_var = ele\n",
    "#             print(min_var)\n",
    "    \n",
    "    return min_var\n"
   ]
  },
  {
   "cell_type": "code",
   "execution_count": 9,
   "id": "bfa6d1e7",
   "metadata": {},
   "outputs": [
    {
     "name": "stdout",
     "output_type": "stream",
     "text": [
      "-1\n"
     ]
    }
   ],
   "source": [
    "l = [1,2,4,-1, 0]   #  input\n",
    "# how to use the function?     answer: function_name(input)\n",
    "output = min_num(l)   \n",
    "print(output)"
   ]
  },
  {
   "cell_type": "markdown",
   "id": "774cbc83",
   "metadata": {},
   "source": [
    "### Question:   \n",
    "Write a function named comp, which compares two numbers and return the bigger one   \n",
    "Input: two numbers   \n",
    "Output: the bigger number  \n",
    "\n",
    "Then call the function to get the output  \n"
   ]
  },
  {
   "cell_type": "code",
   "execution_count": 30,
   "id": "33d97641",
   "metadata": {},
   "outputs": [
    {
     "name": "stdout",
     "output_type": "stream",
     "text": [
      "6\n"
     ]
    }
   ],
   "source": [
    "########### MY ANSWER: ##############\n",
    "def comp(num1, num2):\n",
    "    if num1 > num2:\n",
    "        return num1\n",
    "    else:\n",
    "        return num2\n",
    "\n",
    "result = comp(3,6)\n",
    "print(result)"
   ]
  },
  {
   "cell_type": "markdown",
   "id": "af08296a",
   "metadata": {},
   "source": [
    "### Question:   \n",
    "Write a function named comp2, which compares 3 numbers and return the bigger one  \n",
    "Input: 3 numbers  \n",
    "Output: the bigger number  \n",
    "\n",
    "Then call the function to get the output"
   ]
  },
  {
   "cell_type": "code",
   "execution_count": 32,
   "id": "249e4883",
   "metadata": {},
   "outputs": [
    {
     "name": "stdout",
     "output_type": "stream",
     "text": [
      "100\n"
     ]
    }
   ],
   "source": [
    "########### MY ANSWER: ##############\n",
    "def comp(num1, num2, num3):\n",
    "    if (num1 > num2) and (num1 > num3):\n",
    "        return num1\n",
    "    elif (num2 > num1) and (num2 > num3):\n",
    "        return num2\n",
    "    else:\n",
    "        return num3\n",
    "\n",
    "result = comp(-1,100,-99)\n",
    "print(result)"
   ]
  },
  {
   "cell_type": "code",
   "execution_count": 16,
   "id": "7beb7d60",
   "metadata": {},
   "outputs": [
    {
     "name": "stdout",
     "output_type": "stream",
     "text": [
      "100\n"
     ]
    }
   ],
   "source": [
    "output = comp2(-1, 100, -99)\n",
    "print(output)"
   ]
  },
  {
   "cell_type": "code",
   "execution_count": 48,
   "id": "372b8c82",
   "metadata": {},
   "outputs": [],
   "source": [
    "language = \"Python\""
   ]
  },
  {
   "cell_type": "code",
   "execution_count": 49,
   "id": "72065acc",
   "metadata": {},
   "outputs": [
    {
     "name": "stdout",
     "output_type": "stream",
     "text": [
      "P\n",
      "y\n",
      "t\n",
      "h\n",
      "o\n",
      "n\n"
     ]
    }
   ],
   "source": [
    "for character in language:\n",
    "    print(character)"
   ]
  },
  {
   "cell_type": "markdown",
   "id": "4bbaef9f",
   "metadata": {},
   "source": [
    "Dont print 't'"
   ]
  },
  {
   "cell_type": "code",
   "execution_count": 51,
   "id": "346fa554",
   "metadata": {},
   "outputs": [
    {
     "name": "stdout",
     "output_type": "stream",
     "text": [
      "P\n",
      "y\n",
      "h\n",
      "o\n",
      "n\n"
     ]
    }
   ],
   "source": [
    "for character in language:\n",
    "    if character == 't':\n",
    "        continue\n",
    "    print(character)"
   ]
  },
  {
   "cell_type": "markdown",
   "id": "fb251dfd",
   "metadata": {},
   "source": [
    "stop printing if meet 't'"
   ]
  },
  {
   "cell_type": "code",
   "execution_count": 53,
   "id": "d1a8527b",
   "metadata": {},
   "outputs": [
    {
     "name": "stdout",
     "output_type": "stream",
     "text": [
      "P\n",
      "y\n"
     ]
    }
   ],
   "source": [
    "for character in language:\n",
    "    if character == 't':\n",
    "        break\n",
    "    else:\n",
    "        print(character)"
   ]
  },
  {
   "cell_type": "markdown",
   "id": "e6cb2e80",
   "metadata": {},
   "source": [
    "### Question:  \n",
    "write a function named printfruit which print out the fruit one by one  \n",
    "input: a list of fruits   \n",
    "no return, only print out these fruits one by one  \n",
    "\n",
    "for example\n",
    "fruits = [\"apple\", \"banana\", \"cherry\"]   \n",
    "\"apple\"  \n",
    "\"banana\"  \n",
    "\"cherry\"  "
   ]
  },
  {
   "cell_type": "code",
   "execution_count": 33,
   "id": "6e231736",
   "metadata": {},
   "outputs": [
    {
     "name": "stdout",
     "output_type": "stream",
     "text": [
      "apple\n",
      "banana\n",
      "cherry\n"
     ]
    }
   ],
   "source": [
    "########### MY ANSWER: ##############\n",
    "def printfruit(lst):\n",
    "    for fruit in lst:\n",
    "        print(fruit)\n",
    "\n",
    "fruits = [\"apple\", \"banana\", \"cherry\"]\n",
    "printfruit(fruits)"
   ]
  },
  {
   "cell_type": "markdown",
   "id": "c1d92a57",
   "metadata": {},
   "source": [
    "### Question:   \n",
    "write a function named printchar which print out the char in a string one by one   \n",
    "input: a string   \n",
    "no return, only print out these fruits one by one \n"
   ]
  },
  {
   "cell_type": "code",
   "execution_count": 35,
   "id": "f387129b",
   "metadata": {},
   "outputs": [
    {
     "name": "stdout",
     "output_type": "stream",
     "text": [
      "p\n",
      "y\n",
      "t\n",
      "h\n",
      "o\n",
      "n\n"
     ]
    }
   ],
   "source": [
    "########### MY ANSWER: ##############\n",
    "def printchar(string):\n",
    "    for char in string:\n",
    "        print(char)\n",
    "\n",
    "string = \"python\"\n",
    "printchar(string)"
   ]
  },
  {
   "cell_type": "markdown",
   "id": "3f2ebc7c",
   "metadata": {},
   "source": [
    "<b>Question:  \n",
    "Exit the loop when x is \"banana\", but this time the break comes before the print:"
   ]
  },
  {
   "cell_type": "code",
   "execution_count": 37,
   "id": "13bed839",
   "metadata": {},
   "outputs": [
    {
     "name": "stdout",
     "output_type": "stream",
     "text": [
      "apple\n"
     ]
    }
   ],
   "source": [
    "########### MY ANSWER: ##############\n",
    "fruits = [\"apple\", \"banana\", \"cherry\"]\n",
    "for x in fruits:\n",
    "    if x == \"banana\":\n",
    "        break\n",
    "    print(x)"
   ]
  },
  {
   "cell_type": "code",
   "execution_count": 38,
   "id": "e1170df9",
   "metadata": {},
   "outputs": [
    {
     "name": "stdout",
     "output_type": "stream",
     "text": [
      "apple\n",
      "cherry\n"
     ]
    }
   ],
   "source": [
    "########### MY ANSWER: ##############\n",
    "fruits = [\"apple\", \"cherry\", \"banana\"]\n",
    "for x in fruits:\n",
    "    if x == \"banana\":\n",
    "        break\n",
    "    print(x)"
   ]
  },
  {
   "cell_type": "markdown",
   "id": "6303d8dd",
   "metadata": {},
   "source": [
    "<b>Question:  \n",
    "Do not print banana:"
   ]
  },
  {
   "cell_type": "code",
   "execution_count": 39,
   "id": "3f801a0e",
   "metadata": {},
   "outputs": [
    {
     "name": "stdout",
     "output_type": "stream",
     "text": [
      "apple\n",
      "cherry\n"
     ]
    }
   ],
   "source": [
    "########### MY ANSWER: ##############\n",
    "fruits = [\"apple\", \"banana\", \"cherry\"]\n",
    "for x in fruits:\n",
    "    if x == \"banana\":\n",
    "        continue\n",
    "    print(x)"
   ]
  },
  {
   "cell_type": "code",
   "execution_count": 40,
   "id": "22d1e9b9",
   "metadata": {},
   "outputs": [
    {
     "name": "stdout",
     "output_type": "stream",
     "text": [
      "apple\n",
      "cherry\n"
     ]
    }
   ],
   "source": [
    "########### MY ANSWER: ##############\n",
    "fruits = [\"apple\", \"cherry\", \"banana\"]\n",
    "for x in fruits:\n",
    "    if x == \"banana\":\n",
    "        continue\n",
    "    print(x)"
   ]
  },
  {
   "cell_type": "code",
   "execution_count": 41,
   "id": "5f7e7118",
   "metadata": {},
   "outputs": [
    {
     "name": "stdout",
     "output_type": "stream",
     "text": [
      "apple\n",
      "cherry\n"
     ]
    }
   ],
   "source": [
    "########### MY ANSWER: ##############\n",
    "fruits = [\"banana\", \"apple\", \"cherry\"]\n",
    "for x in fruits:\n",
    "    if x == \"banana\":\n",
    "        continue\n",
    "    print(x)"
   ]
  }
 ],
 "metadata": {
  "kernelspec": {
   "display_name": "Python 3 (ipykernel)",
   "language": "python",
   "name": "python3"
  },
  "language_info": {
   "codemirror_mode": {
    "name": "ipython",
    "version": 3
   },
   "file_extension": ".py",
   "mimetype": "text/x-python",
   "name": "python",
   "nbconvert_exporter": "python",
   "pygments_lexer": "ipython3",
   "version": "3.9.13"
  }
 },
 "nbformat": 4,
 "nbformat_minor": 5
}
